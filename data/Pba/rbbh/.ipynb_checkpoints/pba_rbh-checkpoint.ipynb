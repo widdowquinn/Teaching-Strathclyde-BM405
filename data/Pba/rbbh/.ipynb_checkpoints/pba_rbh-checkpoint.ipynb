{
 "metadata": {
  "name": "",
  "signature": "sha256:28e30c425a152710d2dee10671534e6ba842f6a88b17d72d1f1ccbb413238e58"
 },
 "nbformat": 3,
 "nbformat_minor": 0,
 "worksheets": [
  {
   "cells": [
    {
     "cell_type": "heading",
     "level": 1,
     "metadata": {},
     "source": [
      "*Pectobacterium atrosepticum* Reciprocal Best Match `GenomeDiagram` <img src=\"files/JHI_STRAP_Web.png\" style=\"width: 150px; float: right;\">"
     ]
    },
    {
     "cell_type": "markdown",
     "metadata": {},
     "source": [
      "The goal of this notebook is to demonstrate the loading and representation of *Pectobacterium atrosepticum* genome comparison data to emulate a published figure, using Biopython's `GenomeDiagram` module."
     ]
    },
    {
     "cell_type": "heading",
     "level": 1,
     "metadata": {},
     "source": [
      "Python Imports"
     ]
    },
    {
     "cell_type": "code",
     "collapsed": false,
     "input": [
      "%pylab inline\n",
      "# The above is \"iPython magic\" to import pylab, and get interactive access for plotting, etc.\n",
      "\n",
      "# Python library imports\n",
      "import pandas as pd  # pandas allows us to manipulate dataframes as if we were in R\n",
      "import os            # os gives us a range of functions for interacting with the operating system\n",
      "from random import choice                     # Fudge because of my local version of numpy\n",
      "from Bio.Graphics import GenomeDiagram as gd  # GenomeDiagram library from Biopython\n",
      "from Bio import SeqIO                         # Biopython's file IO libraries\n",
      "from Bio.SeqFeature import SeqFeature, FeatureLocation  # For creating features\n",
      "from Bio.Graphics.ColorSpiral import get_color_dict, get_colors  # Colors\n",
      "from reportlab.lib import units\n",
      "from reportlab.lib.colors import blue, firebrick, springgreen, seagreen, yellow, midnightblue\n",
      "from reportlab.lib.colors import linearlyInterpolatedColor\n",
      "\n",
      "# IPython-specific\n",
      "from IPython.display import Image\n",
      "\n",
      "# Modify display properties\n",
      "rcParams['savefig.dpi'] = 2 * rcParams['savefig.dpi']"
     ],
     "language": "python",
     "metadata": {},
     "outputs": []
    },
    {
     "cell_type": "heading",
     "level": 2,
     "metadata": {},
     "source": [
      "Loading genome and comparison data"
     ]
    },
    {
     "cell_type": "markdown",
     "metadata": {},
     "source": [
      "The data in the 142 `eca_vs_*` files in this directory contain the results of reciprocal best FASTA analyses between the pre-publication annotation of *Pectobacterium atrosepticum* (at the time, *Erwinia carotovora* subsp. *atroseptica*) and the whole bacterial genomes available at the time. The file format is `MSPcrunch` format, as eight space character-separated columns:\n",
      "\n",
      "`bit_score percent_identity query_start query_end query_chromosome subject_start subject_end subject_chromosome`\n",
      "\n",
      "representing the regions of each of the query and subject chromosomes that correspond to reciprocal best-matching CDS from each organism.\n",
      "\n",
      "**NOTE:** space character separation is not a great idea in data files, as some data fields in some file formats may also contain spaces. This can make parsing difficult. It is usually best to use a tab character or other specific separator, but `.crunch` format specifies whitespace, as detailed in: [ftp://ftp.sanger.ac.uk/pub/resources/software/act/act.pdf](ftp://ftp.sanger.ac.uk/pub/resources/software/act/act.pdf)."
     ]
    },
    {
     "cell_type": "code",
     "collapsed": false,
     "input": [
      "# Load feature information for Pba, using the information in\n",
      "# the published genome annotation file\n",
      "pba_record = SeqIO.read('../NC_004547.gbk', 'genbank')\n",
      "print(pba_record)"
     ],
     "language": "python",
     "metadata": {},
     "outputs": []
    },
    {
     "cell_type": "code",
     "collapsed": false,
     "input": [
      "# Before loading comparison data, we create a variable containing the column names\n",
      "colnames = ['bit_score', 'percent_identity', 'query_start', \n",
      "            'query_end', 'query_chromosome', 'subject_start',\n",
      "            'subject_end', 'subject_chromosome']\n",
      "\n",
      "# Make a list of comparison files\n",
      "files = [fname for fname in os.listdir('.') if fname.startswith('eca_vs')]\n",
      "\n",
      "# Load the RBH match data into a dictionary, keyed by target organism name#files = [fname for fname in os.listdir('.') if fname.startswith('eca_vs')]  # Get list of data files\n",
      "match_dict = {}                  # Dictionary to hold files\n",
      "for fname in files:              # Loop over filenames\n",
      "    target = fname[7:]           # Extract target organism from filename\n",
      "    df = pd.DataFrame.from_csv(fname, sep=' ', header=None, index_col=None)    # Create data frame \n",
      "    df.columns = colnames        # Assign column headers\n",
      "    match_dict[target] = df      # Add the data to the dictionary\n",
      "print(\"Loaded %d comparison datasets\" % len(match_dict))"
     ],
     "language": "python",
     "metadata": {},
     "outputs": []
    },
    {
     "cell_type": "heading",
     "level": 2,
     "metadata": {},
     "source": [
      "Visualising the number of matches in the data, by target bacterium"
     ]
    },
    {
     "cell_type": "markdown",
     "metadata": {},
     "source": [
      "We generate a bar chart to indicate how many RBH we find in each target organism"
     ]
    },
    {
     "cell_type": "code",
     "collapsed": false,
     "input": [
      "reportnum = 50                        # Change this value to plot a different number of targets\n",
      "targets = sorted(match_dict.keys())    # Sort to get a consistent order of names\n",
      "\n",
      "# Create a new dataframe to represent number of RBH in each target\n",
      "rbh_counts = pd.DataFrame({'target': targets,\n",
      "                           'count': [len(match_dict[t]) for t in targets]})\n",
      "\n",
      "# Get a sorted list of organism names, so we can order the\n",
      "# histogram, and also rows in the GenomeDiagram, later\n",
      "ordered_targets = list(rbh_counts.sort(['count'])['target'])\n",
      "\n",
      "# Plot bar chart\n",
      "ax = rbh_counts.sort(['count'])[-reportnum:].plot(kind='bar', grid=False, fontsize=5, legend=False)\n",
      "ax.set_title(\"%d targets with greatest number of RBH to Pba\" % reportnum)\n",
      "ax.set_xticklabels(ordered_targets[-reportnum:]);\n",
      "ax.set_ylabel(\"Number of RBH\")\n",
      "ax.set_xlabel(\"Target organism\")\n",
      "\n",
      "# Save figure to file. Change extension (e.g. top_rbh.pdf) to get different filetype\n",
      "savefig(\"top_rbh.png\", bbox_inches='tight')   "
     ],
     "language": "python",
     "metadata": {},
     "outputs": []
    },
    {
     "cell_type": "heading",
     "level": 2,
     "metadata": {},
     "source": [
      "Inspecting match data directly"
     ]
    },
    {
     "cell_type": "markdown",
     "metadata": {},
     "source": [
      "We can look at match data directly as a data frame, as if we were in `R`. "
     ]
    },
    {
     "cell_type": "code",
     "collapsed": false,
     "input": [
      "# Define a set of organism names - one will be chosen at random to be used in the rest of the notebook\n",
      "orgchoice = choice(match_dict.keys())  # Choose an organism at random\n",
      "\n",
      "# You can uncomment the line below, or set the name of a favourite organism, to \n",
      "# force a particular choice\n",
      "#orgchoice = 'Yersinia_pestis_KIM'\n",
      "\n",
      "# Select the dataset\n",
      "data = match_dict[orgchoice]                     # Select the dataset\n",
      "print(\"Your randomly-chosen organism is: %s\" % orgchoice)        # Report the choice\n",
      "data.head()  # The .head() method shows the first few rows of the data table"
     ],
     "language": "python",
     "metadata": {},
     "outputs": []
    },
    {
     "cell_type": "heading",
     "level": 1,
     "metadata": {},
     "source": [
      "Creating a `GenomeDiagram` object"
     ]
    },
    {
     "cell_type": "markdown",
     "metadata": {},
     "source": [
      "The basic principle of `GenomeDiagram` is that we create a `Diagram` object, and then manipulate it. Rendering of the image can take place at more or less any point, and we can manipulate the object between renderings. \n",
      "\n",
      "For this example, we shall generate a circular comparison of RBH, coloured by percentage identity of the RBH. We add the reference genome *Pba* on the outer circle, and then each target organism, in decreasing order of number of shared RBH, towards the centre of the diagram.\n",
      "\n",
      "Each feature added takes its co-ordinates from the *Pba* genome, and its colour from a linear interpolation from blue to red."
     ]
    },
    {
     "cell_type": "code",
     "collapsed": false,
     "input": [
      "# Instantiate diagram\n",
      "gdd = gd.Diagram(\"Pba RBH comparisons\")  \n",
      "\n",
      "# Dictionaries to hold records and tracks for later reference\n",
      "tracks, featuresets = {}, {}\n",
      "\n",
      "# How many tracks will we render\n",
      "# Setting to len(match_dict) renders all comparisons\n",
      "#rendercount = len(match_dict)\n",
      "rendercount = 50\n",
      "\n",
      "# Set the outside track number large enough to accommodate\n",
      "# all the comparisons\n",
      "tracklevel = rendercount + 30\n",
      "\n",
      "# Add the reference genome track, colouring features in\n",
      "# a nice way, with ColorSpiral\n",
      "print (\"Adding Pba reference to level %d\" % tracklevel)\n",
      "tracks['reference'] = gdd.new_track(tracklevel, name=\"Pba reference\",\n",
      "                                    greytrack=True, greytrack_labels=10,\n",
      "                                    height=10, start=0, end=len(pba_record))\n",
      "featuresets['reference'] = tracks['reference'].new_set(name=\"CDS features\")\n",
      "colorlist = list(get_colors(len(pba_record.features), a=4, b=0.33, jitter=1))\n",
      "for idx, feature in enumerate([ft for ft in pba_record.features if ft.type == 'CDS']):\n",
      "    if 'gene' in feature.qualifiers:\n",
      "        lbl = feature.qualifiers['gene']\n",
      "    else:\n",
      "        lbl = \"\"\n",
      "    featuresets['reference'].add_feature(feature, color=colorlist[idx],\n",
      "                                         label=lbl)    \n",
      "tracklevel -= 4  # decrement track level for visualisation\n",
      "\n",
      "# Define a function for applying to Pandas dataframes\n",
      "# by row\n",
      "def add_features_by_row(s, target=None, featureset=None):\n",
      "    ftloc = (s['query_start'], s['query_end'])\n",
      "    if s['query_start'] > s['query_end']:\n",
      "        strand = -1\n",
      "    else:\n",
      "        strand = 1\n",
      "    ft = SeqFeature(FeatureLocation(min(ftloc), max(ftloc)),\n",
      "                    strand=strand)\n",
      "    featuresets[target].add_feature(ft, label=False,\n",
      "                                    color=linearlyInterpolatedColor(yellow, midnightblue,\n",
      "                                                                    30, 100,\n",
      "                                                                    s['percent_identity']))\n",
      "\n",
      "# Add features corresponding to the comparison data,\n",
      "# in descending order of number of RBH between Pba\n",
      "# and the target\n",
      "for target in list(reversed(ordered_targets))[:rendercount]:\n",
      "    print(\"Adding features for %s to track %d\" % (target, tracklevel))\n",
      "    tracks[target] = gdd.new_track(tracklevel, name=target,\n",
      "                                   greytrack=True, greytrack_labels=6,\n",
      "                                   height=2, start=0, end=len(pba_record),\n",
      "                                   scale=False)\n",
      "    featuresets[target] = tracks[target].new_set(name=\"CDS features\")\n",
      "    match_dict[target].apply(add_features_by_row, axis=1, \n",
      "                             target=target, featureset=featuresets[target])\n",
      "    tracklevel -= 1  # decrement for next track\n",
      "    "
     ],
     "language": "python",
     "metadata": {},
     "outputs": []
    },
    {
     "cell_type": "code",
     "collapsed": false,
     "input": [
      "# Function to render circular and linear versions of a GenomeDiagram\n",
      "def render_diagram(diagram, outdir, filestem, circular=True, linear=True,\n",
      "                   fragments=6):\n",
      "    if linear:\n",
      "        print \"Rendering linear diagram\"\n",
      "        diagram.draw(format='linear', orientation='landscape',\n",
      "                 pagesize=(300 * units.cm, \n",
      "                           (len(diagram.get_tracks()) * 91.4 / 15) * units.cm),\n",
      "                 fragments=fragments)\n",
      "        diagram.write(os.path.join(outdir, filestem + '_l.pdf'), 'PDF')\n",
      "        diagram.write(os.path.join(outdir, filestem + '_l.png'), 'PNG')\n",
      "    if circular:\n",
      "        print \"Rendering circular diagram\"\n",
      "        for track in tracks.values():\n",
      "            track.greytrack_labels = 0\n",
      "        diagram.draw(format='circular', orientation='landscape',\n",
      "                 pagesize=(100 * units.cm, 100 * units.cm))\n",
      "        diagram.write(os.path.join(outdir, filestem + '_c.pdf'), 'PDF')\n",
      "        diagram.write(os.path.join(outdir, filestem + '_c.png'), 'PNG')\n",
      "\n",
      "# Write GenomeDiagram output to current subdirectory\n",
      "outdir = '.'        \n",
      "        \n",
      "# Render diagram and show in notebook\n",
      "render_diagram(gdd, outdir, \"base_diagram\")\n",
      "Image(\"base_diagram_c.png\")"
     ],
     "language": "python",
     "metadata": {},
     "outputs": []
    }
   ],
   "metadata": {}
  }
 ]
}
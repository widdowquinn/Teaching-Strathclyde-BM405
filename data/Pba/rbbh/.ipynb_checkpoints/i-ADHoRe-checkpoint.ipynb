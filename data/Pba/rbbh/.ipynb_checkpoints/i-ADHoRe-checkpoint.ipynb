{
 "metadata": {
  "name": "",
  "signature": "sha256:25770c6625d24d5b9ef7facf982d1e951801c24b262ab3264f75d7e7b31c98c7"
 },
 "nbformat": 3,
 "nbformat_minor": 0,
 "worksheets": [
  {
   "cells": [
    {
     "cell_type": "markdown",
     "metadata": {},
     "source": [
      "# Visualising i-ADHoRe output - i-ADHoRe.ipynb\n",
      "\n",
      "## Overview\n",
      "\n",
      "The purpose of this exercise is to demonstrate the use of Biopython's genome visualisation tools to improve on the default output of the **i-ADHoRe** collinearity/synteny-finding package.\n",
      "\n",
      "**i-ADHoRe** provides a Perl API, but not a Python API. It is not uncommon for open source bioinformatics packages not to provide a programming API, and in these cases one usually has to manage by processing the program's output in an ad hoc way. Sometimes, there is a third-party module or application that may help. In this case, there is a tool, **pyADHORE** which has been written to read **i-ADHoRe** output in a useful form for further processing in Python.\n",
      "\n",
      "In this notebook, we will proceed step-by-step through the process of generating circular and linear GenomeDiagram output, describing core gene sets across *Pectobacterium* and *Erwinia* genomes."
     ]
    },
    {
     "cell_type": "markdown",
     "metadata": {},
     "source": [
      "# 1. Importing modules\n",
      "\n",
      "You should import the relevant modules at the top of your scripts. In this case, we will import the following:\n",
      "\n",
      "* **os** for interaction with the filesystem\n",
      "* **itertools.chain** as a convenient way of handling iterable sequences\n",
      "* **Biopython** modules for handling sequence data, and rendering output\n",
      "* **reportlab** modules for defining colours and image sizes\n",
      "* **iadhore** to import i-ADHoRe output data\n",
      "* **IPython.display** to have the `Image()` function for visualisation while we're in this environment"
     ]
    },
    {
     "cell_type": "code",
     "collapsed": false,
     "input": [
      "# IMPORTS\n",
      "import os\n",
      "from itertools import chain\n",
      " \n",
      "# Biopython\n",
      "from Bio.Graphics import GenomeDiagram as gd\n",
      "from Bio.Graphics.ColorSpiral import get_color_dict, get_colors\n",
      "from Bio import SeqIO\n",
      "from Bio.SeqFeature import SeqFeature, FeatureLocation\n",
      " \n",
      "# Reportlab\n",
      "from reportlab.lib.units import cm\n",
      "from reportlab.lib import colors\n",
      " \n",
      "# local\n",
      "from iadhore import IadhoreData\n",
      "\n",
      "# IPython-specific\n",
      "from IPython.display import Image"
     ],
     "language": "python",
     "metadata": {},
     "outputs": [
      {
       "ename": "ImportError",
       "evalue": "No module named iadhore",
       "output_type": "pyerr",
       "traceback": [
        "\u001b[0;31m---------------------------------------------------------------------------\u001b[0m\n\u001b[0;31mImportError\u001b[0m                               Traceback (most recent call last)",
        "\u001b[0;32m<ipython-input-1-86053464ebeb>\u001b[0m in \u001b[0;36m<module>\u001b[0;34m()\u001b[0m\n\u001b[1;32m     14\u001b[0m \u001b[0;34m\u001b[0m\u001b[0m\n\u001b[1;32m     15\u001b[0m \u001b[0;31m# local\u001b[0m\u001b[0;34m\u001b[0m\u001b[0;34m\u001b[0m\u001b[0m\n\u001b[0;32m---> 16\u001b[0;31m \u001b[0;32mfrom\u001b[0m \u001b[0miadhore\u001b[0m \u001b[0;32mimport\u001b[0m \u001b[0mIadhoreData\u001b[0m\u001b[0;34m\u001b[0m\u001b[0m\n\u001b[0m\u001b[1;32m     17\u001b[0m \u001b[0;34m\u001b[0m\u001b[0m\n\u001b[1;32m     18\u001b[0m \u001b[0;31m# IPython-specific\u001b[0m\u001b[0;34m\u001b[0m\u001b[0;34m\u001b[0m\u001b[0m\n",
        "\u001b[0;31mImportError\u001b[0m: No module named iadhore"
       ]
      }
     ],
     "prompt_number": 1
    },
    {
     "cell_type": "markdown",
     "metadata": {},
     "source": [
      "# 2. Defining input data\n",
      "\n",
      "We need to define the set of organisms we wish to draw, the locations of the GenBank files associated with them (these will provide the locations of features in the visualisation), and the relevant **i-ADHoRe** output, along with somewhere to write our output files."
     ]
    },
    {
     "cell_type": "code",
     "collapsed": false,
     "input": [
      "gbkdata = {\"ECA\": \"data/NC_004547.gbk\",\n",
      "           \"ETA\": \"data/NC_010694.gbk\",\n",
      "           \"Pecwa\": \"data/NC_013421.gbk\"}\n",
      "multiplicon_file = \"i-ADHoRe_activity/multiplicons.txt\"\n",
      "segment_file = \"i-ADHoRe_activity/segments.txt\"\n",
      "outdir = \"gd_output\"\n",
      "\n",
      "# For visualisation reasons, we must have a stable ordered list\n",
      "#\u00a0of organisms\n",
      "orgs = (\"ECA\", \"Pecwa\", \"ETA\")\n",
      "\n",
      "# Make an output directory if it doesn't exist\n",
      "if not os.path.isdir(outdir):\n",
      "    os.mkdir(outdir)"
     ],
     "language": "python",
     "metadata": {},
     "outputs": []
    },
    {
     "cell_type": "markdown",
     "metadata": {},
     "source": [
      "# 3. Create the base diagram\n",
      "\n",
      "We take a two-stage approach to rendering the GenomeDiagram output from Biopython.\n",
      "\n",
      "1. set up three tracks with CDS features, representing each of the input genomes\n",
      "2. add cross-links representing the relationships indicated by i-ADHoRe output\n",
      "\n",
      "So we start by creating the base diagram with three tracks"
     ]
    },
    {
     "cell_type": "code",
     "collapsed": false,
     "input": [
      "gdd = gd.Diagram(\"i-ADHoRe activity\")  # Instantiate diagram\n",
      "\n",
      "# Dictionaries to hold records and tracks for later reference\n",
      "records, tracks, featuresets, regionsets = {}, {}, {}, {}\n",
      "\n",
      "# Get a colour for each organism, in a dictionary keyed by organism name\n",
      "org_colours = get_color_dict(gbkdata.keys(), a=4)\n",
      "\n",
      "# Reset levels for first track\n",
      "tracklevel = 0\n",
      "\n",
      "# Load each GenBank file, and create a track each time\n",
      "for org in orgs:\n",
      "    print \"Loading %s\" % gbkdata[org]\n",
      "    records[org] = SeqIO.read(gbkdata[org], \"genbank\")\n",
      "    tracks[org] = gdd.new_track((8 * tracklevel) + 1, name=org,\n",
      "                                greytrack=True, greytack_labels=10,\n",
      "                                height=1, start=0, end=len(records[org]))\n",
      "    regionsets[org] = tracks[org].new_set(name=\"collinear regions\")\n",
      "    print \"Adding features for %s\" % org\n",
      "    featuresets[org] = tracks[org].new_set(name=\"CDS features\")\n",
      "    label_state = True\n",
      "    for feature in [f for f in records[org].features if f.type == 'CDS']:\n",
      "        label_state = not label_state  # Alternate labels\n",
      "        featuresets[org].add_feature(feature, color=org_colours[org],\n",
      "                                     label=False, sigil=\"ARROW\",\n",
      "                                     label_size=3)    \n",
      "    tracklevel += 1  # increment track level for visualisation"
     ],
     "language": "python",
     "metadata": {},
     "outputs": []
    },
    {
     "cell_type": "markdown",
     "metadata": {},
     "source": [
      "We can write out the diagram in this state, to see what has been done already. For convenience later, we create a new function to do this:"
     ]
    },
    {
     "cell_type": "code",
     "collapsed": false,
     "input": [
      "# Function to render circular and linear versions of a GenomeDiagram\n",
      "def render_diagram(diagram, outdir, filestem, circular=True, linear=True):\n",
      "    if linear:\n",
      "        print \"Rendering linear diagram\"\n",
      "        diagram.draw(format='linear', orientation='landscape',\n",
      "                 pagesize=(300 * cm, (len(diagram.get_tracks())*91.4/15)*cm),\n",
      "                 fragments=1)\n",
      "        diagram.write(os.path.join(outdir, filestem + '_l.pdf'), 'PDF')\n",
      "        diagram.write(os.path.join(outdir, filestem + '_l.png'), 'PNG')\n",
      "    if circular:\n",
      "        print \"Rendering circular diagram\"\n",
      "        diagram.draw(format='circular', orientation='landscape',\n",
      "                 pagesize=(100*cm, 100*cm))\n",
      "        diagram.write(os.path.join(outdir, filestem + '_c.pdf'), 'PDF')\n",
      "        diagram.write(os.path.join(outdir, filestem + '_c.png'), 'PNG')\n",
      "        \n",
      "# Render diagram\n",
      "render_diagram(gdd, outdir, \"base_diagram\")\n",
      "Image(\"gd_output/base_diagram_l.png\")"
     ],
     "language": "python",
     "metadata": {},
     "outputs": []
    },
    {
     "cell_type": "markdown",
     "metadata": {},
     "source": [
      "This will show a very long, thin `.png` of the three genomes - as yet without any **i-ADHoRe** data"
     ]
    },
    {
     "cell_type": "markdown",
     "metadata": {},
     "source": [
      "# 4. Load i-ADHoRe data\n",
      "\n",
      "We will use the `IadhoreData` object to hold the output from **i-ADHoRe** and, because this data does not have any location information for placing elements on the genome visualisation, we also define a convenience function to obtain feature locations from the GenBank records we loaded, knowing only a protein's locus tag."
     ]
    },
    {
     "cell_type": "code",
     "collapsed": false,
     "input": [
      "# Convenience function for getting feature locations\n",
      "def get_ft_loc(org, ft):\n",
      "    for f in records[org].features:\n",
      "        if f.type == 'CDS' and f.qualifiers['locus_tag'][0] == str(ft):\n",
      "            return f.location.nofuzzy_start, f.location.nofuzzy_end\n",
      "\n",
      "# Load i-ADHoRe output\n",
      "data = IadhoreData(multiplicon_file, segment_file)\n",
      "\n",
      "# Select only the multiplicons at level 3 - these are our syntenous \n",
      "# core regions\n",
      "full_leaves = data.get_multiplicons_at_level(3)\n",
      "\n",
      "# For rendering, we want to have a different colour for each region\n",
      "region_colours = list(get_colors(len(full_leaves), a=5, b=0.33,\n",
      "                                 jitter=0.25))\n",
      "\n",
      "# How many syntenous core regions are there?\n",
      "print \"We found %d syntenous core regions.\" % len(full_leaves)"
     ],
     "language": "python",
     "metadata": {},
     "outputs": []
    },
    {
     "cell_type": "markdown",
     "metadata": {},
     "source": [
      "# 5. Add i-ADHoRe data to the visualisation\n",
      "\n"
     ]
    },
    {
     "cell_type": "code",
     "collapsed": false,
     "input": [
      "# We loop over our syntenous core regions, and add crosslinks to the diagram\n",
      "for midx, m in enumerate(full_leaves):\n",
      "    segments = data.get_multiplicon_segments(m)\n",
      "    # Loop over pairs of consecutive genomes in the table, and add\n",
      "    # crosslinks for multiplicons\n",
      "    for idx in range(1, len(orgs)):\n",
      "        try:  # There's a bug in here I've not fixed, yet\n",
      "            org1, org2 = orgs[idx-1], orgs[idx]\n",
      "            org1loc = list(chain.from_iterable([get_ft_loc(org1, f) for f in\n",
      "                                                segments[org1]]))\n",
      "            org2loc = list(chain.from_iterable([get_ft_loc(org2, f) for f in\n",
      "                                                segments[org2]]))\n",
      "            org1ft = (tracks[org1], min(org1loc), max(org1loc))\n",
      "            org2ft = (tracks[org2], min(org2loc), max(org2loc))\n",
      "            # Need to create a colour here rather than pass a tuple - unlike \n",
      "            # with features.\n",
      "            # I still need to raise this bug in Biopython!\n",
      "            c = colors.Color(region_colours[midx][0], region_colours[midx][1],\n",
      "                             region_colours[midx][2])\n",
      "            crosslink = gd.CrossLink(org1ft, org2ft, c)\n",
      "            gdd.cross_track_links.append(crosslink)\n",
      "            # Add feature to track (no transparency)\n",
      "            # We add org1 here, then the final org when the looping's done\n",
      "            f = SeqFeature(FeatureLocation(min(org1loc), max(org1loc)),\n",
      "                           strand=None)\n",
      "            regionsets[org1].add_feature(f, label=False, color=\n",
      "                                         colors.Color(region_colours[midx][0],\n",
      "                                                      region_colours[midx][1],\n",
      "                                                      region_colours[midx][2]))\n",
      "        except ValueError:\n",
      "            continue\n",
      "    # Finish off the cross-link features\n",
      "    try:  # This follows from the bug I've not yet squashed, above\n",
      "        f = SeqFeature(FeatureLocation(min(org2loc), max(org2loc)),\n",
      "                       strand=None)\n",
      "    except ValueError:\n",
      "        print \"Problem with location: \", org2loc\n",
      "        continue\n",
      "    regionsets[org2].add_feature(f, label=False,\n",
      "                                 color=colors.Color(region_colours[midx][0],\n",
      "                                                    region_colours[midx][1],\n",
      "                                                    region_colours[midx][2]))"
     ],
     "language": "python",
     "metadata": {},
     "outputs": []
    },
    {
     "cell_type": "markdown",
     "metadata": {},
     "source": [
      "Now that the crosslinks representing our syntenous core regions have been added, the diagram is in a state where it can be rendered.\n",
      "\n",
      "GenomeDiagram's circular diagram crosslinks do not form chords, or use edge-bundling, and so look very odd. Consequently, we choose not to render a final circular diagram. However, the linear diagram does give a very clear indication of the overall conservation of synteny between the *Pectobacterium* genomes, and the rearrangements in the *Erwinia* genome"
     ]
    },
    {
     "cell_type": "code",
     "collapsed": false,
     "input": [
      "# Render diagram\n",
      "render_diagram(gdd, outdir, \"final_diagram\", circular=False)\n",
      "Image(\"gd_output/final_diagram_l.png\")"
     ],
     "language": "python",
     "metadata": {},
     "outputs": []
    },
    {
     "cell_type": "markdown",
     "metadata": {},
     "source": [
      "These relationships are easier to see in the `.pdf` output files."
     ]
    },
    {
     "cell_type": "code",
     "collapsed": false,
     "input": [],
     "language": "python",
     "metadata": {},
     "outputs": []
    }
   ],
   "metadata": {}
  }
 ]
}